{
  "nbformat": 4,
  "nbformat_minor": 0,
  "metadata": {
    "colab": {
      "provenance": []
    },
    "kernelspec": {
      "name": "python3",
      "display_name": "Python 3"
    },
    "language_info": {
      "name": "python"
    }
  },
  "cells": [
    {
      "cell_type": "markdown",
      "source": [
        "## Task completed individually by Yasmin Ebrahimi -  98.33% accuracy achieved with 23 features"
      ],
      "metadata": {
        "id": "w2WDgtRx6GSC"
      }
    },
    {
      "cell_type": "markdown",
      "source": [
        "## Goal\n",
        "- Build an end-to-end ML pipeline using the minimum number of features  \n",
        "- Achieve over 98% accuracy on the test set of the `digits` dataset\n",
        "\n",
        "## Result\n",
        "- Test accuracy: **98.33%**  \n",
        "- Model: SVM (C=7, γ=0.012, RBF kernel)  \n",
        "- Features used: 23 principal components  \n"
      ],
      "metadata": {
        "id": "QVNxuLLL9Nl8"
      }
    },
    {
      "cell_type": "code",
      "execution_count": 1,
      "metadata": {
        "id": "B19-RKCp4fJK"
      },
      "outputs": [],
      "source": [
        "from sklearn.datasets import load_digits\n",
        "from sklearn.model_selection import train_test_split, GridSearchCV\n",
        "\n",
        "# Dimensionality reduction\n",
        "from sklearn.decomposition import PCA\n",
        "from sklearn.preprocessing import StandardScaler, MinMaxScaler\n",
        "\n",
        "# Classifiers\n",
        "from sklearn.svm import SVC\n",
        "from sklearn.ensemble import VotingClassifier\n",
        "from sklearn.neighbors import KNeighborsClassifier\n",
        "from sklearn.linear_model import LogisticRegression\n",
        "#-----\n",
        "\n",
        "from xgboost import XGBClassifier\n",
        "from sklearn.metrics import accuracy_score\n",
        "import numpy as np"
      ]
    },
    {
      "cell_type": "code",
      "source": [
        "# Load the digits dataset\n",
        "digits = load_digits()\n",
        "X = digits.data        # Features (1797 samples, 64 features each)\n",
        "y = digits.target      # Labels (digits 0 through 9)\n",
        "\n",
        "# Split into training and test sets (e.g., 70% train, 30% test)\n",
        "X_train, X_test, y_train, y_test = train_test_split(X, y, test_size=0.3, random_state=42, stratify=y)"
      ],
      "metadata": {
        "id": "FnigTi8V436Y"
      },
      "execution_count": 2,
      "outputs": []
    },
    {
      "cell_type": "code",
      "source": [
        "top_k = 23"
      ],
      "metadata": {
        "id": "Pit296Kn45kP"
      },
      "execution_count": 3,
      "outputs": []
    },
    {
      "cell_type": "code",
      "source": [
        "# Normalize data before PCA (pixel values to [0, 1])\n",
        "scaler_pre = MinMaxScaler()\n",
        "X_normalized = scaler_pre.fit_transform(X)\n",
        "\n",
        "# Apply PCA for 23 components with whitening\n",
        "pca = PCA(n_components=top_k, whiten=True, random_state=42)\n",
        "X_pca = pca.fit_transform(X_normalized)\n",
        "\n",
        "# Split into training and test sets (70% train, 30% test)\n",
        "X_train_pca, X_test_pca, y_train, y_test = train_test_split(X_pca, y, test_size=0.3, random_state=42, stratify=y)\n",
        "\n",
        "# Scale PCA components\n",
        "scaler = StandardScaler()\n",
        "X_train_pca_scaled = scaler.fit_transform(X_train_pca)\n",
        "X_test_pca_scaled = scaler.transform(X_test_pca)"
      ],
      "metadata": {
        "id": "5rCYzcqi47Wo"
      },
      "execution_count": 4,
      "outputs": []
    },
    {
      "cell_type": "code",
      "source": [
        "# Ultra-fine SVM hyperparameter grid\n",
        "param_grid_svm = {\n",
        "    'C': [3, 4, 5, 6, 7],  # Regularization strength: higher → softer margin\n",
        "    'gamma': [0.008, 0.01, 0.012, 0.015, 'scale'], # Kernel coefficient: controls influence radius of support vectors\n",
        "    'kernel': ['rbf']  # Radial Basis Function kernel\n",
        "}\n",
        "svm = SVC(probability=True)\n",
        "grid_search_svm = GridSearchCV(svm, param_grid_svm, cv=5, n_jobs=-1, scoring='accuracy')\n",
        "grid_search_svm.fit(X_train_pca_scaled, y_train)\n",
        "\n",
        "# Best SVM model\n",
        "best_svm = grid_search_svm.best_estimator_\n",
        "print(f\"Best SVM parameters: {grid_search_svm.best_params_}\")\n",
        "\n",
        "# Predict and evaluate SVM\n",
        "y_pred_svm = best_svm.predict(X_test_pca_scaled)\n",
        "accuracy_svm = accuracy_score(y_test, y_pred_svm)\n",
        "print(f\"Test set accuracy with 23 PCA components (SVM): {accuracy_svm:.4f}\")"
      ],
      "metadata": {
        "colab": {
          "base_uri": "https://localhost:8080/"
        },
        "id": "KoaipD6D49XY",
        "outputId": "e53e6b43-64b0-46a0-8d28-5c5a06ffcf98"
      },
      "execution_count": 5,
      "outputs": [
        {
          "output_type": "stream",
          "name": "stdout",
          "text": [
            "Best SVM parameters: {'C': 7, 'gamma': 0.012, 'kernel': 'rbf'}\n",
            "Test set accuracy with 23 PCA components (SVM): 0.9833\n"
          ]
        }
      ]
    }
  ]
}